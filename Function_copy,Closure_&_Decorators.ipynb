{
  "nbformat": 4,
  "nbformat_minor": 0,
  "metadata": {
    "colab": {
      "name": "Function-copy,Closure & Decorators.ipynb",
      "provenance": [],
      "collapsed_sections": [],
      "authorship_tag": "ABX9TyNhZEIpZrK0gbNNRr/vNCl7",
      "include_colab_link": true
    },
    "kernelspec": {
      "name": "python3",
      "display_name": "Python 3"
    }
  },
  "cells": [
    {
      "cell_type": "markdown",
      "metadata": {
        "id": "view-in-github",
        "colab_type": "text"
      },
      "source": [
        "<a href=\"https://colab.research.google.com/github/sharinair14/Python-programs/blob/main/Function_copy%2CClosure_%26_Decorators.ipynb\" target=\"_parent\"><img src=\"https://colab.research.google.com/assets/colab-badge.svg\" alt=\"Open In Colab\"/></a>"
      ]
    },
    {
      "cell_type": "markdown",
      "metadata": {
        "id": "lbCfVB6YopPr"
      },
      "source": [
        "**Function copy**"
      ]
    },
    {
      "cell_type": "code",
      "metadata": {
        "id": "M77eevZ0nivY"
      },
      "source": [
        "def simple_func():\r\n",
        "  return 'Hello World'"
      ],
      "execution_count": null,
      "outputs": []
    },
    {
      "cell_type": "code",
      "metadata": {
        "id": "JyLLM5gLnvT8"
      },
      "source": [
        "s = simple_func()"
      ],
      "execution_count": null,
      "outputs": []
    },
    {
      "cell_type": "code",
      "metadata": {
        "colab": {
          "base_uri": "https://localhost:8080/",
          "height": 35
        },
        "id": "s-SH7zEdn3cQ",
        "outputId": "ebca4b65-ddbc-4c12-f44f-824812b2d846"
      },
      "source": [
        "s"
      ],
      "execution_count": null,
      "outputs": [
        {
          "output_type": "execute_result",
          "data": {
            "application/vnd.google.colaboratory.intrinsic+json": {
              "type": "string"
            },
            "text/plain": [
              "'Hello World'"
            ]
          },
          "metadata": {
            "tags": []
          },
          "execution_count": 6
        }
      ]
    },
    {
      "cell_type": "code",
      "metadata": {
        "id": "e1whOlyAoIkO"
      },
      "source": [
        "del simple_func"
      ],
      "execution_count": null,
      "outputs": []
    },
    {
      "cell_type": "code",
      "metadata": {
        "colab": {
          "base_uri": "https://localhost:8080/",
          "height": 35
        },
        "id": "PTydpxUtoNTD",
        "outputId": "e94dcc2d-c77d-40ec-82cc-1321060780a7"
      },
      "source": [
        "s"
      ],
      "execution_count": null,
      "outputs": [
        {
          "output_type": "execute_result",
          "data": {
            "application/vnd.google.colaboratory.intrinsic+json": {
              "type": "string"
            },
            "text/plain": [
              "'Hello World'"
            ]
          },
          "metadata": {
            "tags": []
          },
          "execution_count": 8
        }
      ]
    },
    {
      "cell_type": "code",
      "metadata": {
        "colab": {
          "base_uri": "https://localhost:8080/",
          "height": 163
        },
        "id": "ll3FmUPnoPIE",
        "outputId": "ae399272-8aa1-4bbe-85cf-a8216408383b"
      },
      "source": [
        "simple_func()"
      ],
      "execution_count": null,
      "outputs": [
        {
          "output_type": "error",
          "ename": "NameError",
          "evalue": "ignored",
          "traceback": [
            "\u001b[0;31m---------------------------------------------------------------------------\u001b[0m",
            "\u001b[0;31mNameError\u001b[0m                                 Traceback (most recent call last)",
            "\u001b[0;32m<ipython-input-9-48e466c105b7>\u001b[0m in \u001b[0;36m<module>\u001b[0;34m()\u001b[0m\n\u001b[0;32m----> 1\u001b[0;31m \u001b[0msimple_func\u001b[0m\u001b[0;34m(\u001b[0m\u001b[0;34m)\u001b[0m\u001b[0;34m\u001b[0m\u001b[0;34m\u001b[0m\u001b[0m\n\u001b[0m",
            "\u001b[0;31mNameError\u001b[0m: name 'simple_func' is not defined"
          ]
        }
      ]
    },
    {
      "cell_type": "markdown",
      "metadata": {
        "id": "ru1T-9PuomZW"
      },
      "source": [
        "**Closure**"
      ]
    },
    {
      "cell_type": "markdown",
      "metadata": {
        "id": "qG5nS0MRBTtH"
      },
      "source": [
        "Functions can be passed as arguments to another function."
      ]
    },
    {
      "cell_type": "code",
      "metadata": {
        "id": "x9fj240kIHsc"
      },
      "source": [
        "# First case"
      ],
      "execution_count": null,
      "outputs": []
    },
    {
      "cell_type": "code",
      "metadata": {
        "id": "VnuWdZaEHsEY"
      },
      "source": [
        "def first_func():\r\n",
        "  print(\"This is main function\")\r\n",
        "  msg=\"Hi world\"\r\n",
        "  def sub_func():\r\n",
        "    print('This is sub function') \r\n",
        "    print(msg)\r\n",
        "  return sub_func()"
      ],
      "execution_count": null,
      "outputs": []
    },
    {
      "cell_type": "code",
      "metadata": {
        "colab": {
          "base_uri": "https://localhost:8080/"
        },
        "id": "hA7A8GIHH1SH",
        "outputId": "588da706-e294-4d72-f054-64cb3cc7e2b1"
      },
      "source": [
        "first_func()"
      ],
      "execution_count": null,
      "outputs": [
        {
          "output_type": "stream",
          "text": [
            "This is main function\n",
            "This is sub function\n",
            "Hi world\n"
          ],
          "name": "stdout"
        }
      ]
    },
    {
      "cell_type": "code",
      "metadata": {
        "id": "EaL0YgCMISao"
      },
      "source": [
        "#Second case"
      ],
      "execution_count": null,
      "outputs": []
    },
    {
      "cell_type": "code",
      "metadata": {
        "id": "o6MykYFIoa68"
      },
      "source": [
        "def first_func1(msg):\r\n",
        "  print(\"This is main function\")\r\n",
        "  \r\n",
        "  def sub_func1():\r\n",
        "    print('This is sub function') \r\n",
        "    print(msg)\r\n",
        "  return sub_func1()"
      ],
      "execution_count": null,
      "outputs": []
    },
    {
      "cell_type": "code",
      "metadata": {
        "colab": {
          "base_uri": "https://localhost:8080/"
        },
        "id": "Suo-yANBpNpV",
        "outputId": "6d174403-89c0-45ea-f1fe-503ff49f232c"
      },
      "source": [
        "first_func1(\"hello world\")"
      ],
      "execution_count": null,
      "outputs": [
        {
          "output_type": "stream",
          "text": [
            "This is main function\n",
            "This is sub function\n",
            "hello world\n"
          ],
          "name": "stdout"
        }
      ]
    },
    {
      "cell_type": "code",
      "metadata": {
        "colab": {
          "base_uri": "https://localhost:8080/"
        },
        "id": "mWMjJ1ppo0zw",
        "outputId": "b73bde5e-1ae3-4da5-fe2e-fecee704d7e2"
      },
      "source": [
        "f=first_func1('hru')"
      ],
      "execution_count": null,
      "outputs": [
        {
          "output_type": "stream",
          "text": [
            "This is main function\n",
            "This is sub function\n",
            "hru\n"
          ],
          "name": "stdout"
        }
      ]
    },
    {
      "cell_type": "markdown",
      "metadata": {
        "id": "NSQLEs16JAyA"
      },
      "source": [
        "**Decorators**"
      ]
    },
    {
      "cell_type": "code",
      "metadata": {
        "id": "dZbB9_dmI9cr"
      },
      "source": [
        "#decorator function\r\n",
        "def animal(func):\r\n",
        "  print('I am a cat')\r\n",
        "  def eat():\r\n",
        "    print('I can eat')\r\n",
        "    func()\r\n",
        "    print('Bye Bye')\r\n",
        "  return eat()"
      ],
      "execution_count": null,
      "outputs": []
    },
    {
      "cell_type": "code",
      "metadata": {
        "id": "K-RUWgspJgAm",
        "colab": {
          "base_uri": "https://localhost:8080/"
        },
        "outputId": "5dbc9edf-77cd-4c4b-faea-1158da45fe8b"
      },
      "source": [
        "@animal\r\n",
        "def name():\r\n",
        "  print('My  name is zoo zoo')"
      ],
      "execution_count": null,
      "outputs": [
        {
          "output_type": "stream",
          "text": [
            "I am a cat\n",
            "I can eat\n",
            "My  name is zoo zoo\n",
            "Bye Bye\n"
          ],
          "name": "stdout"
        }
      ]
    },
    {
      "cell_type": "code",
      "metadata": {
        "id": "2wWfYm3EAS3b"
      },
      "source": [
        "def animal1(func):\r\n",
        "  print('I am a cat')\r\n",
        "  def eat():\r\n",
        "    print('I can eat')\r\n",
        "    \r\n",
        "  return eat()"
      ],
      "execution_count": null,
      "outputs": []
    },
    {
      "cell_type": "code",
      "metadata": {
        "colab": {
          "base_uri": "https://localhost:8080/"
        },
        "id": "jxyQku2qAYo7",
        "outputId": "d5a7bbaf-fb8e-4205-97b9-4f2c70b7cfd5"
      },
      "source": [
        "@animal1\r\n",
        "def name1():\r\n",
        "  print('animal')"
      ],
      "execution_count": null,
      "outputs": [
        {
          "output_type": "stream",
          "text": [
            "I am a cat\n",
            "I can eat\n"
          ],
          "name": "stdout"
        }
      ]
    }
  ]
}