{
  "nbformat": 4,
  "nbformat_minor": 0,
  "metadata": {
    "colab": {
      "name": "Lambda,map,filter function.ipynb",
      "provenance": [],
      "authorship_tag": "ABX9TyP4sI1EaLiN7sURQWl5p2ka",
      "include_colab_link": true
    },
    "kernelspec": {
      "name": "python3",
      "display_name": "Python 3"
    }
  },
  "cells": [
    {
      "cell_type": "markdown",
      "metadata": {
        "id": "view-in-github",
        "colab_type": "text"
      },
      "source": [
        "<a href=\"https://colab.research.google.com/github/sharinair14/Python-programs/blob/main/Lambda%2Cmap%2Cfilter_function.ipynb\" target=\"_parent\"><img src=\"https://colab.research.google.com/assets/colab-badge.svg\" alt=\"Open In Colab\"/></a>"
      ]
    },
    {
      "cell_type": "code",
      "metadata": {
        "id": "Cgmeq8DCquZi"
      },
      "source": [
        "def sq_num(num):\r\n",
        "  return num*num"
      ],
      "execution_count": 1,
      "outputs": []
    },
    {
      "cell_type": "code",
      "metadata": {
        "colab": {
          "base_uri": "https://localhost:8080/"
        },
        "id": "SpGSI8FErLqJ",
        "outputId": "2aa14d11-5502-4278-f6ee-a116432989e4"
      },
      "source": [
        "sq_num(4)"
      ],
      "execution_count": 2,
      "outputs": [
        {
          "output_type": "execute_result",
          "data": {
            "text/plain": [
              "16"
            ]
          },
          "metadata": {
            "tags": []
          },
          "execution_count": 2
        }
      ]
    },
    {
      "cell_type": "markdown",
      "metadata": {
        "id": "JXh9L2nAtOUh"
      },
      "source": [
        "**Lambda Function**"
      ]
    },
    {
      "cell_type": "code",
      "metadata": {
        "id": "Yq_CU5birPeZ"
      },
      "source": [
        "squares=lambda x:sq_num(x)"
      ],
      "execution_count": 7,
      "outputs": []
    },
    {
      "cell_type": "code",
      "metadata": {
        "colab": {
          "base_uri": "https://localhost:8080/"
        },
        "id": "oN7age04sOpB",
        "outputId": "04097946-acde-4268-ab14-7d5155be017b"
      },
      "source": [
        "squares(7)"
      ],
      "execution_count": 8,
      "outputs": [
        {
          "output_type": "execute_result",
          "data": {
            "text/plain": [
              "49"
            ]
          },
          "metadata": {
            "tags": []
          },
          "execution_count": 8
        }
      ]
    },
    {
      "cell_type": "markdown",
      "metadata": {
        "id": "2ovLG7OftTiC"
      },
      "source": [
        "**Map Function**"
      ]
    },
    {
      "cell_type": "markdown",
      "metadata": {
        "id": "yUkO_jX0sXHz"
      },
      "source": [
        "Above we saw the square of a single number using lambda function.Now what if we want the square of list numbers.One way is to use for loop and the other way is to use the map function."
      ]
    },
    {
      "cell_type": "code",
      "metadata": {
        "id": "TWZQ3MdhsfZ5"
      },
      "source": [
        "l=[1,2,3,4,5,6,7,8,9]"
      ],
      "execution_count": 9,
      "outputs": []
    },
    {
      "cell_type": "code",
      "metadata": {
        "colab": {
          "base_uri": "https://localhost:8080/"
        },
        "id": "kOvn99G4s3qr",
        "outputId": "98139359-b8ae-49d2-edb8-368242227e91"
      },
      "source": [
        "map(sq_num,l)"
      ],
      "execution_count": 10,
      "outputs": [
        {
          "output_type": "execute_result",
          "data": {
            "text/plain": [
              "<map at 0x7f6ecf3e4a90>"
            ]
          },
          "metadata": {
            "tags": []
          },
          "execution_count": 10
        }
      ]
    },
    {
      "cell_type": "code",
      "metadata": {
        "colab": {
          "base_uri": "https://localhost:8080/"
        },
        "id": "hWVFa5_ss_ex",
        "outputId": "0acf1f0f-dc16-4607-b989-b1e1be47d0e9"
      },
      "source": [
        "list(map(sq_num,l))"
      ],
      "execution_count": 11,
      "outputs": [
        {
          "output_type": "execute_result",
          "data": {
            "text/plain": [
              "[1, 4, 9, 16, 25, 36, 49, 64, 81]"
            ]
          },
          "metadata": {
            "tags": []
          },
          "execution_count": 11
        }
      ]
    },
    {
      "cell_type": "markdown",
      "metadata": {
        "id": "CrurGCMhtJWX"
      },
      "source": [
        "**Filter function**"
      ]
    },
    {
      "cell_type": "markdown",
      "metadata": {
        "id": "fPUEMzfUtYID"
      },
      "source": [
        "Now if we want to filter out some of the even numbers from the above list, we can use filter function.This filter function is similar to map function except it filters the condition."
      ]
    },
    {
      "cell_type": "code",
      "metadata": {
        "id": "TOCsrWu9t_r8"
      },
      "source": [
        "def even_no(num):\r\n",
        "  if num%2 == 0:\r\n",
        "    return True\r\n",
        "  else:\r\n",
        "    return False"
      ],
      "execution_count": 14,
      "outputs": []
    },
    {
      "cell_type": "code",
      "metadata": {
        "colab": {
          "base_uri": "https://localhost:8080/"
        },
        "id": "pSyREk-ftMUP",
        "outputId": "4a0d5449-4d0d-4410-c588-28f714e699e4"
      },
      "source": [
        "filter(even_no,l)"
      ],
      "execution_count": 15,
      "outputs": [
        {
          "output_type": "execute_result",
          "data": {
            "text/plain": [
              "<filter at 0x7f6ed719fef0>"
            ]
          },
          "metadata": {
            "tags": []
          },
          "execution_count": 15
        }
      ]
    },
    {
      "cell_type": "code",
      "metadata": {
        "colab": {
          "base_uri": "https://localhost:8080/"
        },
        "id": "isWSzxQltyRc",
        "outputId": "d534803e-ebd9-41e7-d543-aa45d84bbc3f"
      },
      "source": [
        "list(filter(even_no,l))"
      ],
      "execution_count": 16,
      "outputs": [
        {
          "output_type": "execute_result",
          "data": {
            "text/plain": [
              "[2, 4, 6, 8]"
            ]
          },
          "metadata": {
            "tags": []
          },
          "execution_count": 16
        }
      ]
    },
    {
      "cell_type": "code",
      "metadata": {
        "colab": {
          "base_uri": "https://localhost:8080/"
        },
        "id": "rtFWUWX0uTWU",
        "outputId": "eb525824-80b6-44c2-bbfb-010fcbdf3340"
      },
      "source": [
        "list(filter(lambda x:x%2 == 0,l))"
      ],
      "execution_count": 19,
      "outputs": [
        {
          "output_type": "execute_result",
          "data": {
            "text/plain": [
              "[2, 4, 6, 8]"
            ]
          },
          "metadata": {
            "tags": []
          },
          "execution_count": 19
        }
      ]
    }
  ]
}