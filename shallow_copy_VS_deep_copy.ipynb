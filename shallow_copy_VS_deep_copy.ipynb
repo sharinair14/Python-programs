{
  "nbformat": 4,
  "nbformat_minor": 0,
  "metadata": {
    "colab": {
      "name": "shallow copy VS deep copy.ipynb",
      "provenance": [],
      "authorship_tag": "ABX9TyNpWIDdhtanP9V0eTBdPIqb",
      "include_colab_link": true
    },
    "kernelspec": {
      "name": "python3",
      "display_name": "Python 3"
    }
  },
  "cells": [
    {
      "cell_type": "markdown",
      "metadata": {
        "id": "view-in-github",
        "colab_type": "text"
      },
      "source": [
        "<a href=\"https://colab.research.google.com/github/sharinair14/Python-programs/blob/main/shallow_copy_VS_deep_copy.ipynb\" target=\"_parent\"><img src=\"https://colab.research.google.com/assets/colab-badge.svg\" alt=\"Open In Colab\"/></a>"
      ]
    },
    {
      "cell_type": "markdown",
      "metadata": {
        "id": "lb1UzWtT1i30"
      },
      "source": [
        "**= operator**"
      ]
    },
    {
      "cell_type": "code",
      "metadata": {
        "id": "htg72j3it1qQ"
      },
      "source": [
        "l1=[3,6,7]\r\n",
        "l2=l1"
      ],
      "execution_count": null,
      "outputs": []
    },
    {
      "cell_type": "code",
      "metadata": {
        "id": "QZ6LyBhCwWZo"
      },
      "source": [
        "l1[1]=2"
      ],
      "execution_count": null,
      "outputs": []
    },
    {
      "cell_type": "code",
      "metadata": {
        "colab": {
          "base_uri": "https://localhost:8080/"
        },
        "id": "xxh9FeyOwbEy",
        "outputId": "85762acd-0e10-4419-87dd-110df2e6fa1f"
      },
      "source": [
        "l1"
      ],
      "execution_count": null,
      "outputs": [
        {
          "output_type": "execute_result",
          "data": {
            "text/plain": [
              "[3, 2, 7]"
            ]
          },
          "metadata": {
            "tags": []
          },
          "execution_count": 3
        }
      ]
    },
    {
      "cell_type": "code",
      "metadata": {
        "colab": {
          "base_uri": "https://localhost:8080/"
        },
        "id": "S9ROB7UwwckX",
        "outputId": "451b9ee4-3538-42aa-ef76-e81c73e83767"
      },
      "source": [
        "l2"
      ],
      "execution_count": null,
      "outputs": [
        {
          "output_type": "execute_result",
          "data": {
            "text/plain": [
              "[3, 2, 7]"
            ]
          },
          "metadata": {
            "tags": []
          },
          "execution_count": 4
        }
      ]
    },
    {
      "cell_type": "markdown",
      "metadata": {
        "id": "Gzu5Gj4038Un"
      },
      "source": [
        "Both l1 and l2 pointing to the same memory locations."
      ]
    },
    {
      "cell_type": "markdown",
      "metadata": {
        "id": "kMHIMpMT01-O"
      },
      "source": [
        "**Shallow Copy**"
      ]
    },
    {
      "cell_type": "markdown",
      "metadata": {
        "id": "BlR3H2Yd07aV"
      },
      "source": [
        "Single dimensional"
      ]
    },
    {
      "cell_type": "code",
      "metadata": {
        "id": "s-CEfn9Vwovw"
      },
      "source": [
        "l3=[2,3,4]\r\n",
        "l4=l3.copy()"
      ],
      "execution_count": null,
      "outputs": []
    },
    {
      "cell_type": "code",
      "metadata": {
        "colab": {
          "base_uri": "https://localhost:8080/"
        },
        "id": "pu_Q3sI5wzF3",
        "outputId": "f079b0b8-5b12-438c-81b6-a466072aa81f"
      },
      "source": [
        "l3,l4"
      ],
      "execution_count": null,
      "outputs": [
        {
          "output_type": "execute_result",
          "data": {
            "text/plain": [
              "([2, 3, 4], [2, 3, 4])"
            ]
          },
          "metadata": {
            "tags": []
          },
          "execution_count": 7
        }
      ]
    },
    {
      "cell_type": "code",
      "metadata": {
        "id": "B9ar7_gVw2OQ"
      },
      "source": [
        "l3[0]=9"
      ],
      "execution_count": null,
      "outputs": []
    },
    {
      "cell_type": "code",
      "metadata": {
        "colab": {
          "base_uri": "https://localhost:8080/"
        },
        "id": "TwNcw0uTw6LX",
        "outputId": "a8a84a35-a889-4ca3-e8a5-0388fa0539ce"
      },
      "source": [
        "l3,l4"
      ],
      "execution_count": null,
      "outputs": [
        {
          "output_type": "execute_result",
          "data": {
            "text/plain": [
              "([9, 3, 4], [2, 3, 4])"
            ]
          },
          "metadata": {
            "tags": []
          },
          "execution_count": 11
        }
      ]
    },
    {
      "cell_type": "markdown",
      "metadata": {
        "id": "cSl_ivooEjQ9"
      },
      "source": [
        "In shallow copy single list , both lists l3 & l4 points to different memory locations..Changes in one list not effected the other list."
      ]
    },
    {
      "cell_type": "markdown",
      "metadata": {
        "id": "-o9ochBc0_8g"
      },
      "source": [
        "Multiple Dimensional"
      ]
    },
    {
      "cell_type": "code",
      "metadata": {
        "id": "t4KXaAYwxISV"
      },
      "source": [
        "l5=[[1,2,3],[4,5,6]]\r\n",
        "l6=l5.copy()"
      ],
      "execution_count": null,
      "outputs": []
    },
    {
      "cell_type": "code",
      "metadata": {
        "colab": {
          "base_uri": "https://localhost:8080/"
        },
        "id": "3jluJ3Tqy0wS",
        "outputId": "eabe67d0-598c-4a7f-fd2a-aca258e69b3a"
      },
      "source": [
        "l5,l6"
      ],
      "execution_count": null,
      "outputs": [
        {
          "output_type": "execute_result",
          "data": {
            "text/plain": [
              "([[1, 2, 3], [4, 5, 6]], [[1, 2, 3], [4, 5, 6]])"
            ]
          },
          "metadata": {
            "tags": []
          },
          "execution_count": 14
        }
      ]
    },
    {
      "cell_type": "code",
      "metadata": {
        "id": "CmqCNaGxy3cC"
      },
      "source": [
        "l5[0][2]=0"
      ],
      "execution_count": null,
      "outputs": []
    },
    {
      "cell_type": "code",
      "metadata": {
        "colab": {
          "base_uri": "https://localhost:8080/"
        },
        "id": "eLYguB_Yy-SW",
        "outputId": "0c861916-84f8-44f9-f6f3-7f5e2acc87bf"
      },
      "source": [
        "l5"
      ],
      "execution_count": null,
      "outputs": [
        {
          "output_type": "execute_result",
          "data": {
            "text/plain": [
              "[[1, 2, 0], [4, 5, 6]]"
            ]
          },
          "metadata": {
            "tags": []
          },
          "execution_count": 16
        }
      ]
    },
    {
      "cell_type": "code",
      "metadata": {
        "colab": {
          "base_uri": "https://localhost:8080/"
        },
        "id": "pZMrLFsqzC1p",
        "outputId": "69dfcddb-8c05-4e69-f8de-9136280a0806"
      },
      "source": [
        "l6"
      ],
      "execution_count": null,
      "outputs": [
        {
          "output_type": "execute_result",
          "data": {
            "text/plain": [
              "[[1, 2, 0], [4, 5, 6]]"
            ]
          },
          "metadata": {
            "tags": []
          },
          "execution_count": 17
        }
      ]
    },
    {
      "cell_type": "code",
      "metadata": {
        "id": "891D5f5XzVyG"
      },
      "source": [
        "l5.append([6,7,8])"
      ],
      "execution_count": null,
      "outputs": []
    },
    {
      "cell_type": "code",
      "metadata": {
        "colab": {
          "base_uri": "https://localhost:8080/"
        },
        "id": "qEUUIgHjzakt",
        "outputId": "2e28e90c-b9c4-44fd-815d-565637ce8b79"
      },
      "source": [
        "l5,l6"
      ],
      "execution_count": null,
      "outputs": [
        {
          "output_type": "execute_result",
          "data": {
            "text/plain": [
              "([[1, 2, 0], [4, 5, 6], [6, 7, 8]], [[1, 2, 0], [4, 5, 6]])"
            ]
          },
          "metadata": {
            "tags": []
          },
          "execution_count": 19
        }
      ]
    },
    {
      "cell_type": "markdown",
      "metadata": {
        "id": "Up6AW13REqKT"
      },
      "source": [
        "In shallow copy nested list , changes in one list affect the other list."
      ]
    },
    {
      "cell_type": "markdown",
      "metadata": {
        "id": "QvrTNfIa1LQt"
      },
      "source": [
        "**Deep Copy**"
      ]
    },
    {
      "cell_type": "code",
      "metadata": {
        "id": "EfBtwgYbzifP"
      },
      "source": [
        "import copy"
      ],
      "execution_count": null,
      "outputs": []
    },
    {
      "cell_type": "markdown",
      "metadata": {
        "id": "usEE3vtE1Ppz"
      },
      "source": [
        "Single Dimensional"
      ]
    },
    {
      "cell_type": "code",
      "metadata": {
        "id": "zInWaWiQzkhe"
      },
      "source": [
        "l7=[7,8,9]\r\n",
        "l8=copy.deepcopy(l7)"
      ],
      "execution_count": null,
      "outputs": []
    },
    {
      "cell_type": "code",
      "metadata": {
        "colab": {
          "base_uri": "https://localhost:8080/"
        },
        "id": "ZftY9jMNzsaG",
        "outputId": "e2467887-ee8d-4a7a-8b16-8bf89edcc754"
      },
      "source": [
        "l7,l8"
      ],
      "execution_count": null,
      "outputs": [
        {
          "output_type": "execute_result",
          "data": {
            "text/plain": [
              "([7, 8, 9], [7, 8, 9])"
            ]
          },
          "metadata": {
            "tags": []
          },
          "execution_count": 22
        }
      ]
    },
    {
      "cell_type": "code",
      "metadata": {
        "id": "t1sgHR9azurX"
      },
      "source": [
        "l7[2]=1"
      ],
      "execution_count": null,
      "outputs": []
    },
    {
      "cell_type": "code",
      "metadata": {
        "colab": {
          "base_uri": "https://localhost:8080/"
        },
        "id": "CoSr1ccFz01K",
        "outputId": "f8e63d9d-bb99-4249-9448-d449b9559859"
      },
      "source": [
        "l7,l8"
      ],
      "execution_count": null,
      "outputs": [
        {
          "output_type": "execute_result",
          "data": {
            "text/plain": [
              "([7, 8, 1], [7, 8, 9])"
            ]
          },
          "metadata": {
            "tags": []
          },
          "execution_count": 24
        }
      ]
    },
    {
      "cell_type": "markdown",
      "metadata": {
        "id": "2jhj-ngeE3ms"
      },
      "source": [
        "In deep copy single list, changes in one list does not affect the other copied list.Both points to different memory locations."
      ]
    },
    {
      "cell_type": "markdown",
      "metadata": {
        "id": "6Gha-mkh1V7E"
      },
      "source": [
        "Multiple Dimensional"
      ]
    },
    {
      "cell_type": "code",
      "metadata": {
        "id": "DR0ADpZxz_Ug"
      },
      "source": [
        "l9=[[1,2,3],[4,5,6]]\r\n",
        "l10=copy.deepcopy(l9)"
      ],
      "execution_count": null,
      "outputs": []
    },
    {
      "cell_type": "code",
      "metadata": {
        "colab": {
          "base_uri": "https://localhost:8080/"
        },
        "id": "z0RrAR3i0PpT",
        "outputId": "626d6ddc-e54f-472e-9bb9-de6a1f82de7c"
      },
      "source": [
        "l9,l10"
      ],
      "execution_count": null,
      "outputs": [
        {
          "output_type": "execute_result",
          "data": {
            "text/plain": [
              "([[1, 2, 3], [4, 5, 6]], [[1, 2, 3], [4, 5, 6]])"
            ]
          },
          "metadata": {
            "tags": []
          },
          "execution_count": 26
        }
      ]
    },
    {
      "cell_type": "code",
      "metadata": {
        "id": "VDjMi9CQ0TA_"
      },
      "source": [
        "l9[0][1]=8"
      ],
      "execution_count": null,
      "outputs": []
    },
    {
      "cell_type": "code",
      "metadata": {
        "colab": {
          "base_uri": "https://localhost:8080/"
        },
        "id": "DoLnsbbV0Z1B",
        "outputId": "f044e01e-ee4b-4eeb-872c-ee173ccb6fff"
      },
      "source": [
        "l9,l10"
      ],
      "execution_count": null,
      "outputs": [
        {
          "output_type": "execute_result",
          "data": {
            "text/plain": [
              "([[1, 8, 3], [4, 5, 6]], [[1, 2, 3], [4, 5, 6]])"
            ]
          },
          "metadata": {
            "tags": []
          },
          "execution_count": 28
        }
      ]
    },
    {
      "cell_type": "markdown",
      "metadata": {
        "id": "a6D2roK4FKhU"
      },
      "source": [
        "In deep copy nested list, changes in one list does not affect the other list."
      ]
    },
    {
      "cell_type": "markdown",
      "metadata": {
        "id": "peBZaNOTFayV"
      },
      "source": [
        "The difference between shallow deep and deep copy is seen in nested list.For single list, both are same."
      ]
    },
    {
      "cell_type": "code",
      "metadata": {
        "id": "oZNNAfAA0eg1"
      },
      "source": [
        ""
      ],
      "execution_count": null,
      "outputs": []
    }
  ]
}
