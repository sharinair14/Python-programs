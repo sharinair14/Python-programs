{
  "nbformat": 4,
  "nbformat_minor": 0,
  "metadata": {
    "colab": {
      "name": "web-scrapping-examples.ipynb",
      "provenance": [],
      "collapsed_sections": [],
      "authorship_tag": "ABX9TyOob+0DI2mj4iMnj/fFRrqP",
      "include_colab_link": true
    },
    "kernelspec": {
      "name": "python3",
      "display_name": "Python 3"
    }
  },
  "cells": [
    {
      "cell_type": "markdown",
      "metadata": {
        "id": "view-in-github",
        "colab_type": "text"
      },
      "source": [
        "<a href=\"https://colab.research.google.com/github/sharinair14/Python-programs/blob/main/web_scrapping_examples.ipynb\" target=\"_parent\"><img src=\"https://colab.research.google.com/assets/colab-badge.svg\" alt=\"Open In Colab\"/></a>"
      ]
    },
    {
      "cell_type": "code",
      "metadata": {
        "id": "-biWAgwK8T4b"
      },
      "source": [
        "from bs4 import BeautifulSoup"
      ],
      "execution_count": 16,
      "outputs": []
    },
    {
      "cell_type": "code",
      "metadata": {
        "id": "U002mwDPAdR_",
        "outputId": "057c6982-3877-4dfb-d007-9ae29182895b",
        "colab": {
          "base_uri": "https://localhost:8080/"
        }
      },
      "source": [
        "pip install requests"
      ],
      "execution_count": 17,
      "outputs": [
        {
          "output_type": "stream",
          "text": [
            "Requirement already satisfied: requests in /usr/local/lib/python3.6/dist-packages (2.23.0)\n",
            "Requirement already satisfied: idna<3,>=2.5 in /usr/local/lib/python3.6/dist-packages (from requests) (2.10)\n",
            "Requirement already satisfied: certifi>=2017.4.17 in /usr/local/lib/python3.6/dist-packages (from requests) (2020.6.20)\n",
            "Requirement already satisfied: urllib3!=1.25.0,!=1.25.1,<1.26,>=1.21.1 in /usr/local/lib/python3.6/dist-packages (from requests) (1.24.3)\n",
            "Requirement already satisfied: chardet<4,>=3.0.2 in /usr/local/lib/python3.6/dist-packages (from requests) (3.0.4)\n"
          ],
          "name": "stdout"
        }
      ]
    },
    {
      "cell_type": "code",
      "metadata": {
        "id": "elJze3eoAlgy"
      },
      "source": [
        "import sys\n",
        "import pandas as pd\n",
        "import time\n",
        "import requests"
      ],
      "execution_count": 18,
      "outputs": []
    },
    {
      "cell_type": "code",
      "metadata": {
        "id": "nXxkMjHaAxSM"
      },
      "source": [
        "try:\n",
        "  page = requests.get('https://www.cricbuzz.com/')\n",
        "\n",
        "except Exception as e:\n",
        "  error_type, error_obj, error_info = sys.exc_info()      # get the exception information\n",
        "  print ('ERROR FOR LINK:',url)                          #print the link that cause the problem\n",
        "  print (error_type, 'Line:', error_info.tb_lineno)     #print error info and line that threw the exception\n",
        "\n",
        "time.sleep(3)\n",
        "soup = BeautifulSoup(page.text,'html.parser')\n",
        "div_tags= soup.find_all(name='div',attrs={'class':'cb-nws-intr'})"
      ],
      "execution_count": 19,
      "outputs": []
    },
    {
      "cell_type": "code",
      "metadata": {
        "id": "wSB4nLiiCzwO",
        "outputId": "590a344e-bcb3-4696-ef1a-920863609627",
        "colab": {
          "base_uri": "https://localhost:8080/"
        }
      },
      "source": [
        "for i in div_tags:\n",
        "  print(i.text)\n",
        "  print('\\n')"
      ],
      "execution_count": 20,
      "outputs": [
        {
          "output_type": "stream",
          "text": [
            "The stark contrast in how both teams handled spin went a long way in deciding the winner on the day\n",
            "\n",
            "\n",
            "The two-time IPL MVP informed the decision to teammates and the CSK management after the team's final IPL 2020 game against KXIP\n",
            "\n",
            "\n",
            "Mumbai Indians are expected to rest a few first choice players and that could very well play into SRH's hands\n",
            "\n",
            "\n",
            "The right-arm pacer has taken all four wickets to fall\n",
            "\n",
            "\n",
            "A half-century for Morgan, runs for Russell, wickets upfront for Cummins, two young pacers holding their own as KKR finally managed a complete performance. But is it too late?\n",
            "\n",
            "\n",
            "KXIP buckled under pressure and CSK exploited it to bring a limp finish to one of the frenzied narratives of the season \n",
            "\n",
            "\n",
            "Rounding up the past week of IPL 2020 with a straight face\n",
            "\n",
            "\n",
            "The 34-year-old Denly is keen for more opportunities with England after a tough summer\n",
            "\n",
            "\n",
            "The board has agreed to let the players go since the PSL dates don't clash with the Bangabandhu T20 tournament which has been postponed by a week \n",
            "\n",
            "\n",
            "Qureishi replaced interim CEO Nazim Zar Abdulrahimzai after he was appointed following the termination of Lutfullah Stanikzai\n",
            "\n",
            "\n",
            "Moises Henriques has been recalled in the 18-man squad whereas injured Mitchell Marsh left out\n",
            "\n",
            "\n",
            "The BBL franchise signed England all-rounder as their third overseas player for the upcoming season of BBL\n",
            "\n",
            "\n",
            "Scott Boland bagged a six wickets in the second innings for Victoria but South Australia managed to escape with a draw\n",
            "\n",
            "\n",
            "Talking points from India's squads for the Australia tour\n",
            "\n",
            "\n",
            "The current IPL is the first major cricket tournament from which all objective media are absent, making it a fascinating window into what the endpoint of an evolving trend can look like\n",
            "\n",
            "\n",
            "The financial inequalities in international cricket are being exacerbated by Covid, threatening the game's ability to remain competitive. What are the potential remedies for a broken system?\n",
            "\n",
            "\n",
            "From struggling with home schooling during the lockdown to living in a bubble, Taylor feels Zimbabwe have prepared well to succeed in the limited-overs tour of Pakistan\n",
            "\n",
            "\n",
            "Destined to the fate of a cricketer, Devdutt owes a lot of his success to meticulous planning and forethought from his parents\n",
            "\n",
            "\n",
            "Not a wrestler or a hockey player, Tewatia became a cricketer like he always wanted to. The determination came in handy in Sharjah\n",
            "\n",
            "\n",
            "How will the arrival of 5G change the users' consumption of cricket and the boards' generation of revenue?\n",
            "\n",
            "\n"
          ],
          "name": "stdout"
        }
      ]
    },
    {
      "cell_type": "markdown",
      "metadata": {
        "id": "I-_feL-XVKPd"
      },
      "source": [
        "**Web Scrapping for Amazon Reviews**"
      ]
    },
    {
      "cell_type": "code",
      "metadata": {
        "id": "_4UQHeoVYWdB"
      },
      "source": [
        "import sys\n",
        "import pandas as pd\n",
        "from bs4 import BeautifulSoup\n",
        "import time\n",
        "import requests\n"
      ],
      "execution_count": 38,
      "outputs": []
    },
    {
      "cell_type": "code",
      "metadata": {
        "id": "qdfO1B4rVSeh"
      },
      "source": [
        "try:\n",
        "  review_page=requests.get('https://www.amazon.in/Redmi-Note-Pebble-Grey-Storage/product-reviews/B086977TR6/ref=cm_cr_dp_d_show_all_btm?ie=UTF8&reviewerType=all_reviews')\n",
        "\n",
        "except Exception as e:\n",
        "  error_type, error_obj, error_info = sys.exc_info()      # get the exception information\n",
        "  print('ERROR FOR LINK:',url)                          #print the link that cause the problem\n",
        "  print(error_type, 'Line:', error_info.tb_lineno)     #print error info and line that threw the exception\n",
        "\n",
        "time.sleep(3)\n",
        "soup = BeautifulSoup(review_page.text,'html.parser')\n",
        "span_text=soup.find_all(name='span',attrs={'class':'a-size-base review-text review-text-content'})"
      ],
      "execution_count": 46,
      "outputs": []
    },
    {
      "cell_type": "code",
      "metadata": {
        "id": "IhFXFX5uaaK6",
        "outputId": "4787887e-c6b6-4b7d-b1d5-c33f3910a957",
        "colab": {
          "base_uri": "https://localhost:8080/"
        }
      },
      "source": [
        "for i in span_text:\n",
        "  print(i.text)"
      ],
      "execution_count": 50,
      "outputs": [
        {
          "output_type": "stream",
          "text": [
            "\n",
            "\n",
            "  Dont buy.. after 10 to.15 mins gaming phone lagging too much\n",
            "\n",
            "\n",
            "\n",
            "\n",
            "  Good phoneDecent look and looks stylishCamera and battery quality are super goodGood phone in this range 👍But delivery service is not good\n",
            "\n",
            "\n",
            "\n",
            "\n",
            "  Not good phone stopped working after some time so i didn't suggest you this...\n",
            "\n",
            "\n",
            "\n",
            "\n",
            "  Here my product review after usage of 3 months.Cons:If you bought this mobile you can't exchange. I have tried but not able to exchange my device.Please check by clicking the exchange option and you can take the decision.Now you can understand why you should not by this mobile.Gaming - Mobile heating and lagging when you playing high graphics gameBattery - 5020mAh battery. Moderate performFor charging it's take 2.4 hrs per day from 0 to 100.Macro camera - useless featureFront and Rear camera - Not good compare with realme 6000rs mobile camera.UI is fine but consuming more ramMany pre-installed application could not able to delete ( Mi app).I suggest please buy some other brand don't waste your money like me.\n",
            "\n",
            "\n",
            "\n",
            "\n",
            "  Worst product, not as expected its not even a month and ut hangs so much! Its front camera is just worst, only it's first look is good nothing else. Don't go for it!! Redmi note 8 and even note 5 is much better than it!😤 Completely disappointed 😤😤😤\n",
            "\n",
            "\n",
            "\n",
            "\n",
            "  Awesome product 💎Value for money 💵Best in segment📱For normal usage this one is the best 🙌Long battery life 🤳 when compared to other smartphones.Camera is ok for this price📸Charging is comparitively slow it takes 2 - 2 and half hrs or more to get full charged.🕕 Overall its best for the price  👍\n",
            "\n",
            "\n",
            "\n",
            "\n",
            "  Very nice Phone.. smooth performance.. charge service decent.. screen quality superb.. sound ok.. but body vibration issue is here.. in speaker mode or at time of calling body vibration present.. no notification light.. overall decent performance at this price.. phone support only 18 watt fast charge. But charger support 22.5 watt..\n",
            "\n",
            "\n",
            "\n",
            "\n",
            "  Totally impressed by the built and looks. For 13k I thought of getting realme 6i but the stocks barely last..!So I decided to get this phone. The phone is great and smooth. Gaming experience is also good but not as good as g90t.G85 is a decent processor with great daily life performance!If 12k is your budget go for it..Or 13k..realme 6i and 14k... Go for poco m2. Scarlet red looks stunning!!\n",
            "\n",
            "\n",
            "\n",
            "\n",
            "  My Mobile phone has some screen issue. On completely black wall paper or black background there's a permanent white dot (like screen is defective) on the screen but i requested for the replacement soon device will be replaced. Although device is preety average, ram management is not that good.go for the snapdragon rather than mediatek.Pubg lags sometimes on medium settings and there's a ton of preloaded apps from which some apps you cannot uninstall.there are several options in the market other than xiaomi. So,choose your device wisely.\n",
            "\n",
            "\n",
            "\n",
            "\n",
            "  Worst mobile... Ordered mobile on August 03 and received on 22nd and looking at mobile display is good but it switched off itself and not working even though if I tried to charge it's not charging... It was completely dead no power in mobileI received a defect piece then I try to return the mobile nobody is coming for pickup from Amazon and no refund option.Buying mobile in Amazon is a worst decision.So again after multiple follow ups someone From Amazon picked up the phone to return but it's not updated yet in app Or no further communication has been updated from Amazon. I called Amazon customer service care for the the same... He was like just woke up from sleep(mooning) and asked me to wait for on hold and he never came back to talk to me. I felt strange and call was disconnected.It's a strange behavior from Amazon I have been regular nd authorized customer for Amazon since  over the years.\n",
            "\n",
            "\n"
          ],
          "name": "stdout"
        }
      ]
    }
  ]
}